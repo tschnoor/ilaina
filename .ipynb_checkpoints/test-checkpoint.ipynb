{
 "cells": [
  {
   "cell_type": "markdown",
   "metadata": {},
   "source": [
    "# Ilaina Test Notebook\n",
    "This notebook has been created for the purpose of testing the various packages and functions in the \"ilaina\" package. I will do my best to make these tests human-readable so that they may help users to understand the functions in addition to making sure that things are working right."
   ]
  },
  {
   "cell_type": "markdown",
   "metadata": {},
   "source": [
    "## Imports"
   ]
  },
  {
   "cell_type": "code",
   "execution_count": null,
   "metadata": {},
   "outputs": [],
   "source": []
  },
  {
   "cell_type": "markdown",
   "metadata": {},
   "source": [
    "# Tests"
   ]
  },
  {
   "cell_type": "markdown",
   "metadata": {},
   "source": [
    "## Signal Processing Tests"
   ]
  },
  {
   "cell_type": "markdown",
   "metadata": {},
   "source": [
    "### waveform_to_mfcc"
   ]
  },
  {
   "cell_type": "code",
   "execution_count": 3,
   "metadata": {},
   "outputs": [
    {
     "name": "stderr",
     "output_type": "stream",
     "text": [
      "WARNING:root:frame length (1103) is greater than FFT size (512), frame will be truncated. Increase NFFT to avoid.\n"
     ]
    },
    {
     "name": "stdout",
     "output_type": "stream",
     "text": [
      "test_data/mystery8.wav information:\n",
      "\n",
      "Sampling rate = 44100Hz\n",
      "Number of samples = 14869\n",
      "Duration = 0.34s\n",
      "Numpy array shape = (14869,)\n",
      "\n",
      "MFCC information:\n",
      "\n",
      "Number of windows (accounting for overlap) = 33.0\n",
      "MFCC shape (no deltas) = (33, 13)\n",
      "\n",
      "MFCC information after adding delta coefficients:\n",
      "\n",
      "MFCC shape (w/ deltas) = (33, 39)\n",
      "Final number of features = 39\n",
      "\n",
      "Saving file to test_data/mystery8.npy\n"
     ]
    }
   ],
   "source": [
    "from sigpro import utils as ut\n",
    "\n",
    "mfcc = ut.waveform_to_mfcc(r\"test_data/mystery8.wav\", save=\"test_data/\", binary=True, verbose=True, deltas=\"deltadelta\")"
   ]
  },
  {
   "cell_type": "code",
   "execution_count": null,
   "metadata": {},
   "outputs": [],
   "source": []
  }
 ],
 "metadata": {
  "kernelspec": {
   "display_name": "Python 3",
   "language": "python",
   "name": "python3"
  },
  "language_info": {
   "codemirror_mode": {
    "name": "ipython",
    "version": 3
   },
   "file_extension": ".py",
   "mimetype": "text/x-python",
   "name": "python",
   "nbconvert_exporter": "python",
   "pygments_lexer": "ipython3",
   "version": "3.7.4"
  }
 },
 "nbformat": 4,
 "nbformat_minor": 4
}
